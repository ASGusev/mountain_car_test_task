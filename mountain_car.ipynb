{
 "cells": [
  {
   "cell_type": "code",
   "execution_count": 1,
   "metadata": {},
   "outputs": [],
   "source": [
    "import gym\n",
    "import numpy as np"
   ]
  },
  {
   "cell_type": "code",
   "execution_count": 2,
   "metadata": {},
   "outputs": [],
   "source": [
    "EPS = 1e-7\n",
    "INTERSECTING_TILES = 3\n",
    "SPACE_TO_TILE = 6\n",
    "EXPLORATION_PROBABILITY = 0.15\n",
    "GAMMA = 0.95\n",
    "LEARNING_RATE = 0.005\n",
    "REWARD_SHAPING_WEIGHT = 100\n",
    "EVAL_PERIOD = 100\n",
    "\n",
    "class MCAgent():\n",
    "    def __init__(self):\n",
    "        self.env = gym.make('MountainCar-v0')\n",
    "        self.state_space_low = self.env.observation_space.low\n",
    "        self.state_space_high = self.env.observation_space.high\n",
    "        self.state_space_sizes = self.state_space_high - self.state_space_low\n",
    "        self.tile_sizes = self.state_space_sizes / SPACE_TO_TILE\n",
    "        self.tile_shifts = self.tile_sizes / INTERSECTING_TILES\n",
    "        self.tiling_dims = ((self.state_space_sizes - self.tile_sizes + self.tile_shifts + EPS) // self.tile_shifts\n",
    "                           ).astype(np.int32)\n",
    "        self.n_actions = self.env.action_space.n\n",
    "        self.q_space_shape = tuple(self.tiling_dims) + (self.n_actions,)\n",
    "        self.coord_multipliers = 1 / self.tile_shifts\n",
    "        self.qs = np.zeros(self.q_space_shape)\n",
    "        \n",
    "    def _tile_touch_borders(self, coords):\n",
    "        upper_border = ((coords - self.state_space_low + EPS) * self.coord_multipliers).astype(np.int32) + 1\n",
    "        lower_border = upper_border - INTERSECTING_TILES\n",
    "        lower_border[lower_border < 0] = 0\n",
    "        return lower_border, upper_border\n",
    "\n",
    "    def _touched_tiles_qs(self, state):\n",
    "        down, up = self._tile_touch_borders(state)\n",
    "        return self.qs[down[0]:up[0], down[1]:up[1]]\n",
    "\n",
    "    def _action_qs(self, state):\n",
    "        return self._touched_tiles_qs(state).mean(axis=(0, 1))\n",
    "\n",
    "    def _choose_action(self, state, exploration_probability):\n",
    "        explore = np.random.binomial(1, exploration_probability)\n",
    "        if explore:\n",
    "            return np.random.randint(self.n_actions)\n",
    "        return np.argmax(self._action_qs(state))\n",
    "        \n",
    "    def train(self, iterations):\n",
    "        for i in range(iterations):\n",
    "            state = self.env.reset()\n",
    "            done = False\n",
    "            while not done:\n",
    "                action = self._choose_action(state, EXPLORATION_PROBABILITY)\n",
    "                new_state, reward, done, _ = self.env.step(action)\n",
    "                shaped_reward = reward + (GAMMA * abs(new_state[1]) - abs(state[1])) * REWARD_SHAPING_WEIGHT\n",
    "                touched_tiles = self._touched_tiles_qs(state)\n",
    "                q_diff = shaped_reward + GAMMA * self._action_qs(new_state).max() - self._action_qs(state)[action]\n",
    "                touched_tiles[:, :, action] += LEARNING_RATE * q_diff\n",
    "                state = new_state\n",
    "            if (i + 1) % EVAL_PERIOD == 0:\n",
    "                print(self.run())\n",
    "            \n",
    "    def run(self, show=False):\n",
    "        env = gym.make('MountainCar-v0')\n",
    "        done = False\n",
    "        steps = 0\n",
    "        state = env.reset()\n",
    "        if show:\n",
    "            env.render()\n",
    "        while not done:\n",
    "            action = self._choose_action(state, 0)\n",
    "            state, _, done, _ = env.step(action)\n",
    "            steps += 1\n",
    "            if show:\n",
    "                env.render()\n",
    "        env.close()\n",
    "        return steps"
   ]
  },
  {
   "cell_type": "code",
   "execution_count": 3,
   "metadata": {},
   "outputs": [
    {
     "name": "stdout",
     "output_type": "stream",
     "text": [
      "200\n",
      "200\n",
      "200\n",
      "200\n",
      "200\n",
      "200\n",
      "200\n",
      "200\n",
      "200\n",
      "200\n",
      "163\n",
      "200\n",
      "200\n",
      "183\n",
      "128\n",
      "162\n",
      "157\n",
      "168\n",
      "152\n",
      "180\n"
     ]
    }
   ],
   "source": [
    "model = MCAgent()\n",
    "model.train(2000)"
   ]
  },
  {
   "cell_type": "code",
   "execution_count": 4,
   "metadata": {},
   "outputs": [
    {
     "data": {
      "text/plain": [
       "181"
      ]
     },
     "execution_count": 4,
     "metadata": {},
     "output_type": "execute_result"
    }
   ],
   "source": [
    "model.run(True)"
   ]
  },
  {
   "cell_type": "code",
   "execution_count": null,
   "metadata": {},
   "outputs": [],
   "source": []
  }
 ],
 "metadata": {
  "kernelspec": {
   "display_name": "Python 3",
   "language": "python",
   "name": "python3"
  },
  "language_info": {
   "codemirror_mode": {
    "name": "ipython",
    "version": 3
   },
   "file_extension": ".py",
   "mimetype": "text/x-python",
   "name": "python",
   "nbconvert_exporter": "python",
   "pygments_lexer": "ipython3",
   "version": "3.7.1"
  }
 },
 "nbformat": 4,
 "nbformat_minor": 2
}
