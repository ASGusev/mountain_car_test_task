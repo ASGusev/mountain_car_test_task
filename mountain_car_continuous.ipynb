{
 "cells": [
  {
   "cell_type": "code",
   "execution_count": 1,
   "metadata": {},
   "outputs": [],
   "source": [
    "import gym\n",
    "import numpy as np\n",
    "import torch\n",
    "from torch import nn"
   ]
  },
  {
   "cell_type": "code",
   "execution_count": 286,
   "metadata": {},
   "outputs": [],
   "source": [
    "LEARNING_RATE = 1e-2\n",
    "EXPLORATION_PROBABILITY = 0.10\n",
    "EVAL_PERIOD = 10\n",
    "GAMMA = 0.95\n",
    "REWARD_SHAPING_WEIGHT = 100\n",
    "\n",
    "class Actor(nn.Module):\n",
    "    def __init__(self):\n",
    "        super(Actor, self).__init__()\n",
    "        self.fc = nn.Sequential(\n",
    "            nn.Linear(2, 16),\n",
    "            nn.ReLU(),\n",
    "            nn.Linear(16, 16),\n",
    "            nn.ReLU(),\n",
    "            nn.Linear(16, 1)\n",
    "        )\n",
    "        \n",
    "    def forward(self, x):\n",
    "        return self.fc(x)\n",
    "    \n",
    "    \n",
    "class Critic(nn.Module):\n",
    "    def __init__(self):\n",
    "        super(Critic, self).__init__()\n",
    "        self.fc = nn.Sequential(\n",
    "            nn.Linear(3, 16),\n",
    "            nn.ReLU(),\n",
    "            nn.Linear(16, 16),\n",
    "            nn.ReLU(),\n",
    "            nn.Linear(16, 1)\n",
    "        )\n",
    "        \n",
    "    def forward(self, x):\n",
    "        return self.fc(x)\n",
    "\n",
    "class MCCAgent():\n",
    "    def __init__(self):\n",
    "        self.env = gym.make('MountainCarContinuous-v0')\n",
    "        self.state_space_low = self.env.observation_space.low\n",
    "        self.state_space_high = self.env.observation_space.high\n",
    "        self.state_space_mid = (self.state_space_high + self.state_space_low) / 2\n",
    "        self.state_space_rad = (self.state_space_high - self.state_space_low) / 2\n",
    "        \n",
    "        self.actor = Actor()\n",
    "        self.critic = Critic()\n",
    "        \n",
    "    def _normalize_coords(self, coords):\n",
    "        return (coords - self.state_space_mid) / self.state_space_rad\n",
    "        \n",
    "    def _choose_action(self, state, exploration_probability):\n",
    "        explore = np.random.binomial(1, exploration_probability)\n",
    "        if explore:\n",
    "            return np.float32(np.random.rand(1) * 2 - 1)\n",
    "        actors_choice = self.actor(torch.tensor(self._normalize_coords(state)).unsqueeze(0).float())\n",
    "        return actors_choice.detach().numpy()[0].astype(np.float32)\n",
    "        \n",
    "    def train(self, iterations):\n",
    "        critic_optimizer = torch.optim.Adam(self.critic.parameters(), lr=LEARNING_RATE)\n",
    "        actor_optimizer = torch.optim.Adam(self.actor.parameters(), lr=LEARNING_RATE)\n",
    "        loss_function = nn.MSELoss()\n",
    "        for i in range(iterations):\n",
    "            state = self.env.reset()\n",
    "            done = False\n",
    "            states = []\n",
    "            rewards = []\n",
    "            actions = []\n",
    "            while not done:\n",
    "                action = self._choose_action(state, EXPLORATION_PROBABILITY)\n",
    "                next_state, reward, done, _ = self.env.step(action)\n",
    "                shaped_reward = reward + (abs(next_state[1]) * GAMMA - abs(state[1])) * REWARD_SHAPING_WEIGHT\n",
    "                                \n",
    "                states.append(self._normalize_coords(state))\n",
    "                rewards.append(shaped_reward)\n",
    "                actions.append(action)\n",
    "                state = next_state\n",
    "                \n",
    "            next_states = states[1:] + [self._normalize_coords(state)]\n",
    "            next_actions = torch.tensor([self._choose_action(i, 0) for i in next_states]).float()\n",
    "            states = torch.tensor(states).float()\n",
    "            next_states = torch.tensor(next_states).float()\n",
    "            rewards = torch.tensor(rewards).float()\n",
    "            actions = torch.tensor(actions)\n",
    "            \n",
    "            self.critic.zero_grad()\n",
    "            pred_qs = self.critic(torch.cat((states, actions), dim=1))\n",
    "            next_qs = self.critic(torch.cat((next_states, next_actions), dim=1))\n",
    "            critic_loss = loss_function(pred_qs, rewards + GAMMA * next_qs)\n",
    "            critic_loss.backward()\n",
    "            critic_optimizer.step()\n",
    "            \n",
    "            self.actor.zero_grad()\n",
    "            self.critic.zero_grad()\n",
    "            chosen_actions = self.actor(states)\n",
    "            expected_qs = self.critic(torch.cat([states, chosen_actions], dim=1))\n",
    "            (-expected_qs).mean().backward()\n",
    "            actor_optimizer.step()\n",
    "            \n",
    "            if (i + 1) % EVAL_PERIOD == 0:\n",
    "                print(self.run())\n",
    "            \n",
    "    def run(self, show=False):\n",
    "        env = gym.make('MountainCarContinuous-v0')\n",
    "        done = False\n",
    "        steps = 0\n",
    "        state = env.reset()\n",
    "        if show:\n",
    "            env.render()\n",
    "        while not done:\n",
    "            action = self._choose_action(state, 0)\n",
    "            state, _, done, _ = env.step(action)\n",
    "            steps += 1\n",
    "            if show:\n",
    "                env.render()\n",
    "        env.close()\n",
    "\n",
    "        return steps"
   ]
  },
  {
   "cell_type": "code",
   "execution_count": 287,
   "metadata": {
    "scrolled": true
   },
   "outputs": [
    {
     "name": "stdout",
     "output_type": "stream",
     "text": [
      "999\n",
      "999\n",
      "999\n",
      "999\n",
      "999\n",
      "999\n",
      "999\n",
      "999\n",
      "999\n",
      "999\n",
      "999\n",
      "999\n",
      "999\n",
      "999\n",
      "999\n",
      "999\n",
      "999\n",
      "999\n",
      "999\n",
      "999\n"
     ]
    }
   ],
   "source": [
    "model = MCCAgent()\n",
    "model.train(200)"
   ]
  },
  {
   "cell_type": "code",
   "execution_count": 288,
   "metadata": {},
   "outputs": [
    {
     "data": {
      "text/plain": [
       "999"
      ]
     },
     "execution_count": 288,
     "metadata": {},
     "output_type": "execute_result"
    }
   ],
   "source": [
    "model.run(True)"
   ]
  }
 ],
 "metadata": {
  "kernelspec": {
   "display_name": "Python 3",
   "language": "python",
   "name": "python3"
  },
  "language_info": {
   "codemirror_mode": {
    "name": "ipython",
    "version": 3
   },
   "file_extension": ".py",
   "mimetype": "text/x-python",
   "name": "python",
   "nbconvert_exporter": "python",
   "pygments_lexer": "ipython3",
   "version": "3.7.1"
  }
 },
 "nbformat": 4,
 "nbformat_minor": 2
}
